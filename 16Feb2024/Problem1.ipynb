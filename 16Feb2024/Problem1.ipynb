{
 "cells": [
  {
   "cell_type": "code",
   "execution_count": 104,
   "metadata": {},
   "outputs": [],
   "source": [
    "# Problem 1 unique values\n",
    "def unique(l): # define a function that return a list of unique values\n",
    "    unique_list = [] # collect unique values\n",
    "    for x in l: # loop all item in the list with x\n",
    "        if x not in unique_list:\n",
    "            unique_list.append(x) # add it to the the list\n",
    "    \n",
    "    if unique_list[0].isalpha: # if it's alphabets\n",
    "        return sorted(unique_list)\n",
    "    else: # if it's numbers\n",
    "        new_list = [int(n) for n in unique_list] # convert string to integer\n",
    "        return sorted(new_list)\n",
    "\n",
    "# program start\n",
    "# user_list = [e for e in input(\"Enter only numbers or strings with space: \").split()]\n",
    "# print(unique(user_list))"
   ]
  },
  {
   "cell_type": "markdown",
   "metadata": {},
   "source": [
    "# Example"
   ]
  },
  {
   "cell_type": "code",
   "execution_count": 105,
   "metadata": {},
   "outputs": [],
   "source": [
    "from random import randint"
   ]
  },
  {
   "cell_type": "code",
   "execution_count": 106,
   "metadata": {},
   "outputs": [
    {
     "name": "stdout",
     "output_type": "stream",
     "text": [
      "origin list: ['5', '6', '4', '2', '4', '8', '3', '3', '7', '2']\n",
      "unique list: ['2', '3', '4', '5', '6', '7', '8']\n"
     ]
    }
   ],
   "source": [
    "user_list = [str(randint(0,9)) for n in range(10)]\n",
    "print(\"origin list:\", user_list)\n",
    "print(\"unique list:\", unique(user_list))"
   ]
  },
  {
   "cell_type": "code",
   "execution_count": 107,
   "metadata": {},
   "outputs": [
    {
     "name": "stdout",
     "output_type": "stream",
     "text": [
      "origin list: ['7', '15', '18', '5', '12', '18', '13', '3', '9', '9', '6', '12', '10', '5', '12', '18', '3', '15', '19', '20']\n",
      "unique list: ['10', '12', '13', '15', '18', '19', '20', '3', '5', '6', '7', '9']\n"
     ]
    }
   ],
   "source": [
    "user_list = [str(randint(0,20)) for n in range(20)]\n",
    "print(\"origin list:\", user_list)\n",
    "print(\"unique list:\", unique(user_list))"
   ]
  },
  {
   "cell_type": "code",
   "execution_count": 108,
   "metadata": {},
   "outputs": [
    {
     "name": "stdout",
     "output_type": "stream",
     "text": [
      "origin list: ['W', 'R', 'F', 'H', 'A', 'A', 'U', 'A', 'F', 'R', 'G', 'L', 'E', 'Z', 'X', 'S', 'F', 'I', 'E', 'F']\n",
      "unique list: ['A', 'E', 'F', 'G', 'H', 'I', 'L', 'R', 'S', 'U', 'W', 'X', 'Z']\n"
     ]
    }
   ],
   "source": [
    "user_list = [chr(randint(65,90)) for n in range(20)]\n",
    "print(\"origin list:\", user_list)\n",
    "print(\"unique list:\", unique(user_list))"
   ]
  },
  {
   "cell_type": "code",
   "execution_count": 109,
   "metadata": {},
   "outputs": [
    {
     "name": "stdout",
     "output_type": "stream",
     "text": [
      "origin list: ['a', 'z', 'r', 'p', 'k', 'r', 'l', 'z', 's', 'h', 'z', 'q', 'f', 'b', 'l', 'a', 'u', 'd', 'h', 'k']\n",
      "unique list: ['a', 'b', 'd', 'f', 'h', 'k', 'l', 'p', 'q', 'r', 's', 'u', 'z']\n"
     ]
    }
   ],
   "source": [
    "user_list = [chr(randint(97,122)) for n in range(20)]\n",
    "print(\"origin list:\", user_list)\n",
    "print(\"unique list:\", unique(user_list))"
   ]
  }
 ],
 "metadata": {
  "kernelspec": {
   "display_name": "Python 3",
   "language": "python",
   "name": "python3"
  },
  "language_info": {
   "codemirror_mode": {
    "name": "ipython",
    "version": 3
   },
   "file_extension": ".py",
   "mimetype": "text/x-python",
   "name": "python",
   "nbconvert_exporter": "python",
   "pygments_lexer": "ipython3",
   "version": "3.12.1"
  }
 },
 "nbformat": 4,
 "nbformat_minor": 2
}
