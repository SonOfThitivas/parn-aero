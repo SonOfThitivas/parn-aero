{
 "cells": [
  {
   "cell_type": "code",
   "execution_count": 5,
   "metadata": {},
   "outputs": [],
   "source": [
    "# Problem 2 collect student's info and sort it\n",
    "def sorting(sort_by, l):\n",
    "    students_list_sorted = []\n",
    "    id_list, firstname_list, lastname_list = [], [], []\n",
    "    \n",
    "    for i in range(len(l)):\n",
    "        id_list.append(l[i][0])\n",
    "        firstname_list.append(l[i][1])\n",
    "        lastname_list.append(l[i][2])\n",
    "    \n",
    "    if sort_by == \"id number\":\n",
    "        id_list.sort()\n",
    "        for id in id_list:\n",
    "            for j in range(len(l)):\n",
    "                if id in l[j]:\n",
    "                    students_list_sorted.append([l[j][0],\n",
    "                                                 l[j][1],\n",
    "                                                 l[j][2]])\n",
    "                    break\n",
    "        \n",
    "    elif sort_by == \"firstname\":\n",
    "        firstname_list.sort()\n",
    "        for firstname in firstname_list:\n",
    "            for j in range(len(l)):\n",
    "                if firstname in l[j]:\n",
    "                    students_list_sorted.append([l[j][0],\n",
    "                                                 l[j][1],\n",
    "                                                 l[j][2]])\n",
    "                    break\n",
    "        \n",
    "    else: # sort_by == \"lastname\"\n",
    "        lastname_list.sort()\n",
    "        for lastname in lastname_list:\n",
    "            for j in range(len(l)):\n",
    "                if lastname in l[j]:\n",
    "                    students_list_sorted.append([l[j][0],\n",
    "                                                 l[j][1],\n",
    "                                                 l[j][2]])\n",
    "                    break\n",
    "    \n",
    "    return students_list_sorted\n",
    "\n",
    "def print_list(l):\n",
    "    print(\"id number ,\", \"firstname ,\", \"lastname\")\n",
    "    for i in range(len(l)):\n",
    "        print(l[i][0], ',', l[i][1], ',', l[i][2])\n",
    "\n",
    "# example\n",
    "students_list = [[\"297246752\", \"Lyell\", \"Esgate\"],\n",
    "                 [\"319678172\", \"Errol\", \"Lies\"],\n",
    "                 [\"979704040\", \"Trevor\", \"Mostyn\"],\n",
    "                 [\"891767372\", \"Bobbi\", \"Skippen\"],\n",
    "                 [\"995935539\", \"Bobbe\", \"Palfreyman\"],\n",
    "                 [\"022717631\", \"Bing\", \"Cutting\"],\n",
    "                 [\"14322525\", \"Alibaba\", \"Zeom\"],\n",
    "                 [\"447563095\", \"Agnola\", \"McVaugh\"]]\n",
    "\n",
    "# while True:\n",
    "#     user_input = [e for e in input(\n",
    "#         \"\"\"Enter the info that fellow with:\n",
    "#         student id number/firstname/lastname\n",
    "#         (enter '0' to stop)\n",
    "#         >> \"\"\"\n",
    "#         ).split('/')]\n",
    "    \n",
    "#     if user_input[0] == '0':\n",
    "#         break\n",
    "#     elif len(user_input) != 3:\n",
    "#         print(\"\\nThat is not the correct one. Please, try again\\n\")\n",
    "#         continue\n",
    "    \n",
    "#     students_list.append(user_input)\n",
    "\n",
    "# while True:\n",
    "#     sort_specific = input(\"\"\"What would you like to sort with?\n",
    "#                         (id number, firstname, lastname)\n",
    "#                         >> \"\"\")\n",
    "    \n",
    "#     if sort_specific in [\"id number\", \"firstname\", \"lastname\"]:\n",
    "#         break\n",
    "#     else:\n",
    "#         print(\"\\nThat is not the correct one. Please, try again\\n\")\n",
    "        \n",
    "# sorted_list = sorting(sort_specific, students_list)\n",
    "# print_list(sorted_list)"
   ]
  },
  {
   "cell_type": "markdown",
   "metadata": {},
   "source": [
    "<h1>Sort by id number</h1>"
   ]
  },
  {
   "cell_type": "code",
   "execution_count": 6,
   "metadata": {},
   "outputs": [
    {
     "name": "stdout",
     "output_type": "stream",
     "text": [
      "id number , firstname , lastname\n",
      "022717631 , Bing , Cutting\n",
      "14322525 , Alibaba , Zeom\n",
      "297246752 , Lyell , Esgate\n",
      "319678172 , Errol , Lies\n",
      "447563095 , Agnola , McVaugh\n",
      "891767372 , Bobbi , Skippen\n",
      "979704040 , Trevor , Mostyn\n",
      "995935539 , Bobbe , Palfreyman\n"
     ]
    }
   ],
   "source": [
    "sorted_list = sorting(\"id number\", students_list)\n",
    "print_list(sorted_list)"
   ]
  },
  {
   "cell_type": "markdown",
   "metadata": {},
   "source": [
    "<h1>Sort by firstname</h1>"
   ]
  },
  {
   "cell_type": "code",
   "execution_count": 7,
   "metadata": {},
   "outputs": [
    {
     "name": "stdout",
     "output_type": "stream",
     "text": [
      "id number , firstname , lastname\n",
      "447563095 , Agnola , McVaugh\n",
      "14322525 , Alibaba , Zeom\n",
      "022717631 , Bing , Cutting\n",
      "995935539 , Bobbe , Palfreyman\n",
      "891767372 , Bobbi , Skippen\n",
      "319678172 , Errol , Lies\n",
      "297246752 , Lyell , Esgate\n",
      "979704040 , Trevor , Mostyn\n"
     ]
    }
   ],
   "source": [
    "sorted_list = sorting(\"firstname\", students_list)\n",
    "print_list(sorted_list)"
   ]
  },
  {
   "cell_type": "markdown",
   "metadata": {},
   "source": [
    "<h1>Sort by lastname</h1>"
   ]
  },
  {
   "cell_type": "code",
   "execution_count": 8,
   "metadata": {},
   "outputs": [
    {
     "name": "stdout",
     "output_type": "stream",
     "text": [
      "id number , firstname , lastname\n",
      "022717631 , Bing , Cutting\n",
      "297246752 , Lyell , Esgate\n",
      "319678172 , Errol , Lies\n",
      "447563095 , Agnola , McVaugh\n",
      "979704040 , Trevor , Mostyn\n",
      "995935539 , Bobbe , Palfreyman\n",
      "891767372 , Bobbi , Skippen\n",
      "14322525 , Alibaba , Zeom\n"
     ]
    }
   ],
   "source": [
    "sorted_list = sorting(\"lastname\", students_list)\n",
    "print_list(sorted_list)"
   ]
  }
 ],
 "metadata": {
  "kernelspec": {
   "display_name": "Python 3",
   "language": "python",
   "name": "python3"
  },
  "language_info": {
   "codemirror_mode": {
    "name": "ipython",
    "version": 3
   },
   "file_extension": ".py",
   "mimetype": "text/x-python",
   "name": "python",
   "nbconvert_exporter": "python",
   "pygments_lexer": "ipython3",
   "version": "3.12.1"
  }
 },
 "nbformat": 4,
 "nbformat_minor": 2
}
