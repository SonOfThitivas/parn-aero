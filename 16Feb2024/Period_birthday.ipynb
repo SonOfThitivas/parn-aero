{
 "cells": [
  {
   "cell_type": "code",
   "execution_count": 5,
   "metadata": {},
   "outputs": [
    {
     "name": "stdout",
     "output_type": "stream",
     "text": [
      "Probability:  51.1247\n"
     ]
    }
   ],
   "source": [
    "# initialization\n",
    "import random\n",
    "n_students = 20\n",
    "days_in_year = 365\n",
    "n_simulations = 10000\n",
    "max_diffs = [] # used to store the longest period of each classroom\n",
    "\n",
    "# #################################\n",
    "# Write down your code from here. #\n",
    "# #################################\n",
    "\n",
    "for i in range(n_simulations): # create data to find probability with 10,000 simulations\n",
    "    # intiialize variables\n",
    "    a_classroom = [] # collect all student's birthday\n",
    "    all_period = [] # collect all the period of student's birthday (older student - younger student)\n",
    "    \n",
    "    for j in range(n_students): # random 20 student's birtdays\n",
    "        a_classroom.append(random.randint(1,days_in_year)) # random between 1-365 day\n",
    "    \n",
    "    a_classroom.sort() # sort the days easily to find the period\n",
    "    for k in range(0,len(a_classroom),2): # step +2\n",
    "        all_period.append(a_classroom[k+1] - a_classroom[k]) # compute the period Ex. student2 - student1, student4 - student3\n",
    "        \n",
    "    max_diffs.append(max(all_period)) # collect the longest period of each simulate\n",
    "    \n",
    "print(\"Probability: \", sum(max_diffs)/len(max_diffs))"
   ]
  }
 ],
 "metadata": {
  "kernelspec": {
   "display_name": "Python 3",
   "language": "python",
   "name": "python3"
  },
  "language_info": {
   "codemirror_mode": {
    "name": "ipython",
    "version": 3
   },
   "file_extension": ".py",
   "mimetype": "text/x-python",
   "name": "python",
   "nbconvert_exporter": "python",
   "pygments_lexer": "ipython3",
   "version": "3.12.1"
  }
 },
 "nbformat": 4,
 "nbformat_minor": 2
}
